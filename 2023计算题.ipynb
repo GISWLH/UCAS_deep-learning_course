{
 "cells": [
  {
   "cell_type": "code",
   "execution_count": 1,
   "id": "1938a4f9-7450-4c45-8f3c-851fc03b43cd",
   "metadata": {
    "tags": []
   },
   "outputs": [
    {
     "name": "stdout",
     "output_type": "stream",
     "text": [
      "Valid 无激活函数下的输出 tf.Tensor(\n",
      "[[[[39]\n",
      "   [24]\n",
      "   [ 7]\n",
      "   [27]]\n",
      "\n",
      "  [[27]\n",
      "   [16]\n",
      "   [12]\n",
      "   [22]]\n",
      "\n",
      "  [[29]\n",
      "   [29]\n",
      "   [48]\n",
      "   [18]]\n",
      "\n",
      "  [[20]\n",
      "   [19]\n",
      "   [ 9]\n",
      "   [16]]]], shape=(1, 4, 4, 1), dtype=int32)\n",
      "Valid 条件下ReLU可视化的输出： tf.Tensor(\n",
      "[[39 24  7 27]\n",
      " [27 16 12 22]\n",
      " [29 29 48 18]\n",
      " [20 19  9 16]], shape=(4, 4), dtype=int32)\n",
      "Same 条件下ReLU可视化的输出： tf.Tensor(\n",
      "[[26 26  0  3 34 15]\n",
      " [12 39 24  7 27 29]\n",
      " [ 3 27 16 12 22 43]\n",
      " [16 29 29 48 18 11]\n",
      " [40 20 19  9 16 25]\n",
      " [34 20 22  7 48 51]], shape=(6, 6), dtype=int32)\n"
     ]
    }
   ],
   "source": [
    "import tensorflow as tf\n",
    "\n",
    "input_x = tf.constant([\n",
    "    [[[5, 6, 0, 1, 8, 2],\n",
    "      [2, 5, 7, 2, 3, 7],\n",
    "      [0, 7, 2, 4, 5, 6],\n",
    "      [5, 3, 6, 9, 3, 1],\n",
    "      [6, 5, 3, 1, 4, 6],\n",
    "      [5, 2, 4, 0, 8, 7]\n",
    "\n",
    "      ]]])\n",
    "filters = tf.constant([\n",
    "    [[[-1, 2, -1], \n",
    "      [1, 5, 1], \n",
    "      [-1, 0, -1]]]\n",
    "])\n",
    "\n",
    "input_x=tf.reshape(input_x,(1,6,6,1))\n",
    "\n",
    "filters=tf.reshape(filters,(3,3,1,1))\n",
    "\n",
    "res = tf.nn.conv2d(input_x, filters, strides=1, padding='VALID')\n",
    "print('Valid 无激活函数下的输出',res)\n",
    "res=tf.squeeze(res)\n",
    "print('Valid 条件下ReLU可视化的输出：',res)\n",
    "res1 = tf.nn.conv2d(input_x, filters, strides=1, padding='SAME')\n",
    "print('Same 条件下ReLU可视化的输出：',tf.squeeze(res1))\n",
    "# print('Valid 激活函数下输出',tf.nn.relu(res))"
   ]
  },
  {
   "cell_type": "code",
   "execution_count": 2,
   "id": "31a4eb5b-b228-41a4-996a-d6ff25207646",
   "metadata": {
    "colab": {
     "base_uri": "https://localhost:8080/"
    },
    "id": "litGljFmFlgh",
    "outputId": "9a69432a-ac05-471e-9c01-cc503797a8cb",
    "tags": []
   },
   "outputs": [
    {
     "data": {
      "text/plain": [
       "tensor(0.2336)"
      ]
     },
     "execution_count": 2,
     "metadata": {},
     "output_type": "execute_result"
    }
   ],
   "source": [
    "criterion = nn.BCELoss()#默认是求均值，数据需要是浮点型数据\n",
    "pre=torch.tensor([0.2,0.8,0.4,0.1,0.9]).float()\n",
    "tar=torch.tensor([0,1,0,0,1]).float()\n",
    "l=criterion(pre,tar)\n",
    "l"
   ]
  },
  {
   "cell_type": "code",
   "execution_count": 14,
   "id": "2d3fa1db-78e4-4c40-b775-92e14cc8894e",
   "metadata": {
    "tags": []
   },
   "outputs": [
    {
     "data": {
      "text/plain": [
       "tensor([0.0420, 0.1142, 0.8438])"
      ]
     },
     "execution_count": 14,
     "metadata": {},
     "output_type": "execute_result"
    }
   ],
   "source": [
    "pre=torch.tensor([2,3,5]).float()\n",
    "prob = torch.nn.functional.softmax(pre, dim=0)\n",
    "prob"
   ]
  }
 ],
 "metadata": {
  "kernelspec": {
   "display_name": "Python 3 (ipykernel)",
   "language": "python",
   "name": "python3"
  },
  "language_info": {
   "codemirror_mode": {
    "name": "ipython",
    "version": 3
   },
   "file_extension": ".py",
   "mimetype": "text/x-python",
   "name": "python",
   "nbconvert_exporter": "python",
   "pygments_lexer": "ipython3",
   "version": "3.8.12"
  }
 },
 "nbformat": 4,
 "nbformat_minor": 5
}
